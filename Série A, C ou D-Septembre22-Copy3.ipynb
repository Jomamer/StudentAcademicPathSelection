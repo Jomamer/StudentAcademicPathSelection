{
 "cells": [
  {
   "cell_type": "markdown",
   "metadata": {},
   "source": [
    "# Prédiction de la série A, C ou D"
   ]
  },
  {
   "cell_type": "code",
   "execution_count": 1,
   "metadata": {
    "ExecuteTime": {
     "end_time": "2019-03-30T18:01:40.641196Z",
     "start_time": "2019-03-30T18:01:40.632989Z"
    }
   },
   "outputs": [],
   "source": [
    "import os\n",
    "import pandas as pd\n",
    "import numpy as np\n",
    "from sklearn import datasets\n",
    "from sklearn import tree\n",
    "# Ensemble Learning\n",
    "from sklearn.ensemble import RandomForestClassifier\n",
    "from sklearn.ensemble import ExtraTreesClassifier\n",
    "from sklearn.ensemble import GradientBoostingClassifier\n",
    "from xgboost import XGBClassifier\n",
    "#from sklearn import cross_validation\n",
    "from sklearn.model_selection import KFold, cross_val_score\n",
    "import sklearn.model_selection as ms\n",
    "from sklearn import metrics\n",
    "\n",
    "from matplotlib import pyplot as plt\n",
    "%matplotlib inline"
   ]
  },
  {
   "cell_type": "markdown",
   "metadata": {},
   "source": [
    "## Load Data  for Classification"
   ]
  },
  {
   "cell_type": "code",
   "execution_count": 2,
   "metadata": {
    "ExecuteTime": {
     "end_time": "2019-03-30T17:56:53.319994Z",
     "start_time": "2019-03-30T17:56:53.294780Z"
    }
   },
   "outputs": [
    {
     "data": {
      "text/html": [
       "<div>\n",
       "<style scoped>\n",
       "    .dataframe tbody tr th:only-of-type {\n",
       "        vertical-align: middle;\n",
       "    }\n",
       "\n",
       "    .dataframe tbody tr th {\n",
       "        vertical-align: top;\n",
       "    }\n",
       "\n",
       "    .dataframe thead th {\n",
       "        text-align: right;\n",
       "    }\n",
       "</style>\n",
       "<table border=\"1\" class=\"dataframe\">\n",
       "  <thead>\n",
       "    <tr style=\"text-align: right;\">\n",
       "      <th></th>\n",
       "      <th>Mm6</th>\n",
       "      <th>Mp6</th>\n",
       "      <th>Ms6</th>\n",
       "      <th>Mm5</th>\n",
       "      <th>Mp5</th>\n",
       "      <th>Ms5</th>\n",
       "      <th>Mm4</th>\n",
       "      <th>Mp4</th>\n",
       "      <th>Ms4</th>\n",
       "      <th>Mm3</th>\n",
       "      <th>Mp3</th>\n",
       "      <th>Ms3</th>\n",
       "      <th>MS</th>\n",
       "      <th>S</th>\n",
       "    </tr>\n",
       "  </thead>\n",
       "  <tbody>\n",
       "    <tr>\n",
       "      <th>0</th>\n",
       "      <td>17</td>\n",
       "      <td>16</td>\n",
       "      <td>17</td>\n",
       "      <td>17</td>\n",
       "      <td>17</td>\n",
       "      <td>19</td>\n",
       "      <td>16</td>\n",
       "      <td>16</td>\n",
       "      <td>14</td>\n",
       "      <td>15</td>\n",
       "      <td>15</td>\n",
       "      <td>14</td>\n",
       "      <td>15.44</td>\n",
       "      <td>2</td>\n",
       "    </tr>\n",
       "    <tr>\n",
       "      <th>1</th>\n",
       "      <td>14</td>\n",
       "      <td>13</td>\n",
       "      <td>14</td>\n",
       "      <td>15</td>\n",
       "      <td>15</td>\n",
       "      <td>16</td>\n",
       "      <td>12</td>\n",
       "      <td>13</td>\n",
       "      <td>14</td>\n",
       "      <td>10</td>\n",
       "      <td>8</td>\n",
       "      <td>9</td>\n",
       "      <td>13.79</td>\n",
       "      <td>1</td>\n",
       "    </tr>\n",
       "    <tr>\n",
       "      <th>2</th>\n",
       "      <td>16</td>\n",
       "      <td>16</td>\n",
       "      <td>18</td>\n",
       "      <td>16</td>\n",
       "      <td>17</td>\n",
       "      <td>20</td>\n",
       "      <td>16</td>\n",
       "      <td>14</td>\n",
       "      <td>16</td>\n",
       "      <td>13</td>\n",
       "      <td>14</td>\n",
       "      <td>13</td>\n",
       "      <td>14.36</td>\n",
       "      <td>1</td>\n",
       "    </tr>\n",
       "    <tr>\n",
       "      <th>3</th>\n",
       "      <td>14</td>\n",
       "      <td>13</td>\n",
       "      <td>11</td>\n",
       "      <td>12</td>\n",
       "      <td>15</td>\n",
       "      <td>15</td>\n",
       "      <td>10</td>\n",
       "      <td>12</td>\n",
       "      <td>12</td>\n",
       "      <td>10</td>\n",
       "      <td>10</td>\n",
       "      <td>9</td>\n",
       "      <td>11.18</td>\n",
       "      <td>1</td>\n",
       "    </tr>\n",
       "    <tr>\n",
       "      <th>4</th>\n",
       "      <td>15</td>\n",
       "      <td>10</td>\n",
       "      <td>14</td>\n",
       "      <td>11</td>\n",
       "      <td>12</td>\n",
       "      <td>13</td>\n",
       "      <td>12</td>\n",
       "      <td>12</td>\n",
       "      <td>12</td>\n",
       "      <td>8</td>\n",
       "      <td>9</td>\n",
       "      <td>9</td>\n",
       "      <td>11.37</td>\n",
       "      <td>0</td>\n",
       "    </tr>\n",
       "  </tbody>\n",
       "</table>\n",
       "</div>"
      ],
      "text/plain": [
       "   Mm6  Mp6  Ms6  Mm5  Mp5  Ms5  Mm4  Mp4  Ms4  Mm3  Mp3  Ms3     MS  S\n",
       "0   17   16   17   17   17   19   16   16   14   15   15   14  15.44  2\n",
       "1   14   13   14   15   15   16   12   13   14   10    8    9  13.79  1\n",
       "2   16   16   18   16   17   20   16   14   16   13   14   13  14.36  1\n",
       "3   14   13   11   12   15   15   10   12   12   10   10    9  11.18  1\n",
       "4   15   10   14   11   12   13   12   12   12    8    9    9  11.37  0"
      ]
     },
     "execution_count": 2,
     "metadata": {},
     "output_type": "execute_result"
    }
   ],
   "source": [
    "data = pd.read_csv('MoyennesBinairesSeptembre22.csv',encoding='latin-1')\n",
    "names = ['Mm6','Mp6','Ms6','Mm5','Mp5','Ms5','Mm4','Mp4','Ms4','Mm3','Mp3','Ms3','S']\n",
    "data.head()"
   ]
  },
  {
   "cell_type": "code",
   "execution_count": 3,
   "metadata": {},
   "outputs": [
    {
     "data": {
      "text/plain": [
       "(-0.5, 2.5)"
      ]
     },
     "execution_count": 3,
     "metadata": {},
     "output_type": "execute_result"
    },
    {
     "data": {
      "image/png": "[encoded data removed]",
      "text/plain": [
       "<Figure size 432x288 with 1 Axes>"
      ]
     },
     "metadata": {
      "needs_background": "light"
     },
     "output_type": "display_data"
    }
   ],
   "source": [
    "data['S'].value_counts()\n",
    "#class distribution\n",
    "data.hist(column = 'S')\n",
    "plt.xlim(-0.5,2.5)"
   ]
  },
  {
   "cell_type": "code",
   "execution_count": 4,
   "metadata": {},
   "outputs": [],
   "source": [
    "# créer la matrice de données\n",
    "X = data.iloc[:,0:12].values\n",
    "\n",
    "# créer le vecteur d'étiquettes\n",
    "y = data.iloc[:,13].values "
   ]
  },
  {
   "cell_type": "markdown",
   "metadata": {},
   "source": [
    "## CrossValidation Strategy - Model selection"
   ]
  },
  {
   "cell_type": "code",
   "execution_count": 5,
   "metadata": {
    "ExecuteTime": {
     "end_time": "2019-03-30T17:58:45.308490Z",
     "start_time": "2019-03-30T17:58:45.281669Z"
    }
   },
   "outputs": [
    {
     "name": "stdout",
     "output_type": "stream",
     "text": [
      "train_size: 292 some-train-indexes: [ 0  1  2  3  5  6  7  8  9 10]\n",
      "train_size: 33 some-test-indexes: [ 4 16 22 26 28 57 58 65 87 91]\n",
      "\n",
      "train_size: 292 some-train-indexes: [ 0  1  2  3  4  5  6  8  9 10]\n",
      "train_size: 33 some-test-indexes: [  7  11  14  33  43  60  94 104 110 125]\n",
      "\n",
      "train_size: 292 some-train-indexes: [0 1 2 3 4 5 6 7 8 9]\n",
      "train_size: 33 some-test-indexes: [ 13  17  21  40  47  62  80  84  92 105]\n",
      "\n",
      "train_size: 292 some-train-indexes: [ 0  1  2  3  4  6  7  8  9 11]\n",
      "train_size: 33 some-test-indexes: [ 5 10 12 24 50 54 59 68 73 77]\n",
      "\n",
      "train_size: 292 some-train-indexes: [ 0  1  2  4  5  7  8  9 10 11]\n",
      "train_size: 33 some-test-indexes: [ 3  6 15 19 23 36 38 56 66 67]\n",
      "\n",
      "train_size: 293 some-train-indexes: [0 1 2 3 4 5 6 7 8 9]\n",
      "train_size: 32 some-test-indexes: [ 25  30  31  45  52  55  72  76  95 103]\n",
      "\n",
      "train_size: 293 some-train-indexes: [ 0  3  4  5  6  7  8 10 11 12]\n",
      "train_size: 32 some-test-indexes: [  1   2   9  44  46  71  74  75  98 111]\n",
      "\n",
      "train_size: 293 some-train-indexes: [ 1  2  3  4  5  6  7  8  9 10]\n",
      "train_size: 32 some-test-indexes: [  0  18  20  32  51  78  86  93  99 100]\n",
      "\n",
      "train_size: 293 some-train-indexes: [ 0  1  2  3  4  5  6  7  9 10]\n",
      "train_size: 32 some-test-indexes: [ 8 27 29 34 35 37 41 48 49 53]\n",
      "\n",
      "train_size: 293 some-train-indexes: [0 1 2 3 4 5 6 7 8 9]\n",
      "train_size: 32 some-test-indexes: [ 39  42  63  64  70  85  88  89 101 109]\n",
      "\n"
     ]
    }
   ],
   "source": [
    "CV_generator = KFold(n_splits=10, shuffle=True).split(X,y)\n",
    "#nb folds of cross validation\n",
    "for (train_idx, test_idx) in CV_generator:\n",
    "    print(\"train_size:\",len(train_idx),\"some-train-indexes:\", train_idx[:10]) \n",
    "    print(\"train_size:\",len(test_idx), \"some-test-indexes:\", test_idx[:10]) \n",
    "    input()"
   ]
  },
  {
   "cell_type": "code",
   "execution_count": 6,
   "metadata": {},
   "outputs": [],
   "source": [
    "kfold=10"
   ]
  },
  {
   "cell_type": "markdown",
   "metadata": {},
   "source": [
    "##### 1- Decision Tree"
   ]
  },
  {
   "cell_type": "code",
   "execution_count": 7,
   "metadata": {},
   "outputs": [
    {
     "name": "stdout",
     "output_type": "stream",
     "text": [
      " dtc Accuracy: 0.82 (+/- 0.07)\n"
     ]
    }
   ],
   "source": [
    "dtc = tree.DecisionTreeClassifier(max_depth=5)\n",
    "scores = cross_val_score(dtc, X, y, cv=kfold)\n",
    "print(\" dtc Accuracy: %0.2f (+/- %0.2f)\" % (scores.mean(), scores.std() * 2))"
   ]
  },
  {
   "cell_type": "markdown",
   "metadata": {},
   "source": [
    "##### 2- Random Forest "
   ]
  },
  {
   "cell_type": "code",
   "execution_count": 38,
   "metadata": {
    "ExecuteTime": {
     "end_time": "2019-03-30T17:59:54.619826Z",
     "start_time": "2019-03-30T17:59:53.452948Z"
    }
   },
   "outputs": [
    {
     "name": "stdout",
     "output_type": "stream",
     "text": [
      " rfc Accuracy: 0.90 (+/- 0.10)\n"
     ]
    }
   ],
   "source": [
    "rfc = RandomForestClassifier(n_estimators=50) # n_estimators=?, max_features=?\n",
    "scores = cross_val_score(rfc, X, y, cv=kfold)\n",
    "print(\" rfc Accuracy: %0.2f (+/- %0.2f)\" % (scores.mean(), scores.std() * 2))"
   ]
  },
  {
   "cell_type": "markdown",
   "metadata": {},
   "source": [
    "##### 3- Linear SVC"
   ]
  },
  {
   "cell_type": "code",
   "execution_count": 39,
   "metadata": {
    "ExecuteTime": {
     "end_time": "2019-03-30T18:00:38.055614Z",
     "start_time": "2019-03-30T18:00:37.030704Z"
    }
   },
   "outputs": [
    {
     "name": "stdout",
     "output_type": "stream",
     "text": [
      "lsvc accuracy: 0.90 (+/- 0.08)\n"
     ]
    }
   ],
   "source": [
    "from sklearn import svm\n",
    "lsvc = svm.SVC(kernel='linear')\n",
    "scores = cross_val_score(lsvc, X, y, cv=kfold)\n",
    "print(\"lsvc accuracy: %0.2f (+/- %0.2f)\" % (scores.mean(), scores.std() * 2))"
   ]
  },
  {
   "cell_type": "markdown",
   "metadata": {},
   "source": [
    "##### 4- KNN"
   ]
  },
  {
   "cell_type": "code",
   "execution_count": 40,
   "metadata": {},
   "outputs": [
    {
     "name": "stdout",
     "output_type": "stream",
     "text": [
      "Meilleur(s) hyperparamètre(s) sur le jeu d'entraînement:\n",
      "{'n_neighbors': 15}\n",
      "Résultats de la validation croisée :\n",
      "accuracy = 0.863 (+/-0.058) for {'n_neighbors': 3}\n",
      "accuracy = 0.849 (+/-0.069) for {'n_neighbors': 5}\n",
      "accuracy = 0.860 (+/-0.040) for {'n_neighbors': 7}\n",
      "accuracy = 0.856 (+/-0.093) for {'n_neighbors': 9}\n",
      "accuracy = 0.863 (+/-0.084) for {'n_neighbors': 11}\n",
      "accuracy = 0.860 (+/-0.073) for {'n_neighbors': 13}\n",
      "accuracy = 0.867 (+/-0.093) for {'n_neighbors': 15}\n"
     ]
    }
   ],
   "source": [
    "from sklearn import neighbors, metrics, model_selection\n",
    "#Nous découpons nos données en un jeu d'entrainement et un jeu de test\n",
    "\n",
    "from sklearn import model_selection\n",
    "X_train, X_test, y_train, y_test = \\\n",
    "    model_selection.train_test_split(X, y, test_size=0.1)\n",
    "# Fixer les valeurs des hyperparamètres à tester\n",
    "param_grid = {'n_neighbors':[3, 5, 7, 9, 11, 13, 15]}\n",
    "\n",
    "# Choisir un score à optimiser, ici l'accuracy (proportion de prédictions correctes)\n",
    "score = 'accuracy'\n",
    "\n",
    "# Créer un classifieur kNN avec recherche d'hyperparamètre par validation croisée\n",
    "clf = model_selection.GridSearchCV(\n",
    "    neighbors.KNeighborsClassifier(), # un classifieur kNN\n",
    "    param_grid,     # hyperparamètres à tester\n",
    "    cv=5,           # nombre de folds de validation croisée\n",
    "    scoring=score   # score à optimiser\n",
    ")\n",
    "\n",
    "# Optimiser ce classifieur sur le jeu d'entraînement\n",
    "clf.fit(X_train, y_train)\n",
    "\n",
    "# Afficher le(s) hyperparamètre(s) optimaux\n",
    "print(\"Meilleur(s) hyperparamètre(s) sur le jeu d'entraînement:\")\n",
    "print(clf.best_params_)\n",
    "\n",
    "# Afficher les performances correspondantes\n",
    "print(\"Résultats de la validation croisée :\")\n",
    "for mean, std, params in zip(\n",
    "        clf.cv_results_['mean_test_score'], # score moyen\n",
    "        clf.cv_results_['std_test_score'],  # écart-type du score\n",
    "        clf.cv_results_['params']           # valeur de l'hyperparamètre\n",
    "    ):\n",
    "\n",
    "    print(\"{} = {:.3f} (+/-{:.03f}) for {}\".format(\n",
    "        score,\n",
    "        mean,\n",
    "        std*2,\n",
    "        params\n",
    "    ) )"
   ]
  },
  {
   "cell_type": "code",
   "execution_count": 41,
   "metadata": {
    "ExecuteTime": {
     "end_time": "2019-03-30T18:00:52.994268Z",
     "start_time": "2019-03-30T18:00:52.236316Z"
    }
   },
   "outputs": [
    {
     "name": "stdout",
     "output_type": "stream",
     "text": [
      "knn accuracy: 0.85 (+/- 0.12)\n"
     ]
    }
   ],
   "source": [
    "knn = neighbors.KNeighborsClassifier(n_neighbors=9)\n",
    "scores = cross_val_score(knn, X, y, cv=kfold)\n",
    "print(\"knn accuracy: %0.2f (+/- %0.2f)\" % (scores.mean(), scores.std() * 2))"
   ]
  },
  {
   "cell_type": "markdown",
   "metadata": {},
   "source": [
    "##### 5- Logistic Regression"
   ]
  },
  {
   "cell_type": "code",
   "execution_count": 42,
   "metadata": {},
   "outputs": [],
   "source": [
    "import numpy as np\n",
    "from sklearn.linear_model import LogisticRegression\n",
    "from sklearn.metrics import roc_curve, auc\n",
    "\n",
    "lr = LogisticRegression(solver = 'liblinear')"
   ]
  },
  {
   "cell_type": "code",
   "execution_count": 43,
   "metadata": {
    "ExecuteTime": {
     "end_time": "2019-03-30T18:02:26.192662Z",
     "start_time": "2019-03-30T18:02:25.434911Z"
    }
   },
   "outputs": [
    {
     "name": "stdout",
     "output_type": "stream",
     "text": [
      "Accuracy: 0.71 (+/- 0.15)\n"
     ]
    }
   ],
   "source": [
    "scores = cross_val_score(lr, X, y, cv=kfold)\n",
    "print(\"Accuracy: %0.2f (+/- %0.2f)\" % (scores.mean(), scores.std() * 2))"
   ]
  },
  {
   "cell_type": "markdown",
   "metadata": {
    "collapsed": true
   },
   "source": [
    "## TrainTest Strategy - Model evaluation"
   ]
  },
  {
   "cell_type": "markdown",
   "metadata": {},
   "source": [
    "### Split TrainTest"
   ]
  },
  {
   "cell_type": "code",
   "execution_count": 48,
   "metadata": {
    "ExecuteTime": {
     "end_time": "2019-03-30T18:02:34.719248Z",
     "start_time": "2019-03-30T18:02:34.509691Z"
    }
   },
   "outputs": [
    {
     "name": "stdout",
     "output_type": "stream",
     "text": [
      "size train/test: 259/66\n"
     ]
    }
   ],
   "source": [
    "import sklearn.utils\n",
    "data = sklearn.utils.shuffle(data)\n",
    "data['is_train'] = np.random.uniform(0, 1, len(data)) <= 3/4 #.75\n",
    "train, test = data[data['is_train']==True], data[data['is_train']==False]\n",
    "print(\"size train/test: {0}/{1}\".format(train.shape[0], test.shape[0]))\n",
    "X_train, y_train = train[names[:-1]], train['S']\n",
    "X_test, y_test = test[names[:-1]], test['S']"
   ]
  },
  {
   "cell_type": "markdown",
   "metadata": {},
   "source": [
    "### Performance evaluation"
   ]
  },
  {
   "cell_type": "code",
   "execution_count": 49,
   "metadata": {
    "ExecuteTime": {
     "end_time": "2019-03-30T18:02:52.417751Z",
     "start_time": "2019-03-30T18:02:52.414601Z"
    }
   },
   "outputs": [],
   "source": [
    "from sklearn import metrics"
   ]
  },
  {
   "cell_type": "code",
   "execution_count": 50,
   "metadata": {
    "ExecuteTime": {
     "end_time": "2019-03-30T18:03:37.298152Z",
     "start_time": "2019-03-30T18:03:36.941505Z"
    }
   },
   "outputs": [],
   "source": [
    "clf_map = {'DecisionTree': dtc,'RandomForest': rfc, 'LinearSVC': lsvc, 'KNN': knn, 'LogisticRegression':lr }\n",
    "clf_preds_map = {}\n",
    "for cname, clf in clf_map.items():\n",
    "    clf.fit(X_train, y_train)\n",
    "    clf_preds_map[cname] = clf.predict(X_test)"
   ]
  },
  {
   "cell_type": "markdown",
   "metadata": {},
   "source": [
    "##### Accuracy"
   ]
  },
  {
   "cell_type": "code",
   "execution_count": 51,
   "metadata": {
    "ExecuteTime": {
     "end_time": "2019-03-30T18:03:39.986166Z",
     "start_time": "2019-03-30T18:03:39.977522Z"
    }
   },
   "outputs": [
    {
     "name": "stdout",
     "output_type": "stream",
     "text": [
      "=> DecisionTree accuracy = [0.86]]\n",
      "=> RandomForest accuracy = [0.92]]\n",
      "=> LinearSVC accuracy = [0.95]]\n",
      "=> KNN accuracy = [0.94]]\n",
      "=> LogisticRegression accuracy = [0.82]]\n"
     ]
    }
   ],
   "source": [
    "for cname, _ in clf_map.items():\n",
    "    print(\"=> {0} accuracy = [{1:.2f}]]\".format(cname, metrics.accuracy_score(y_test,clf_preds_map[cname])))"
   ]
  },
  {
   "cell_type": "code",
   "execution_count": 52,
   "metadata": {},
   "outputs": [
    {
     "name": "stdout",
     "output_type": "stream",
     "text": [
      "DecisionTree [0.9        0.85245902 0.72727273]\n",
      "RandomForest [0.91803279 0.92063492 1.        ]\n",
      "LinearSVC [0.94915254 0.95384615 1.        ]\n",
      "KNN [0.93103448 0.93939394 1.        ]\n",
      "LogisticRegression [0.84745763 0.82352941 0.4       ]\n"
     ]
    }
   ],
   "source": [
    "for cname, _ in clf_map.items():\n",
    "    print(cname,metrics.f1_score(y_test,clf_preds_map[cname], average=None))"
   ]
  },
  {
   "cell_type": "markdown",
   "metadata": {},
   "source": [
    "##### Confusion matrix"
   ]
  },
  {
   "cell_type": "code",
   "execution_count": 53,
   "metadata": {
    "ExecuteTime": {
     "end_time": "2019-03-30T18:03:50.591479Z",
     "start_time": "2019-03-30T18:03:50.574459Z"
    }
   },
   "outputs": [],
   "source": [
    "conf_map = {}\n",
    "for cname, _ in clf_map.items():\n",
    "    conf_map[cname]=metrics.confusion_matrix(y_test, clf_preds_map[cname])"
   ]
  },
  {
   "cell_type": "code",
   "execution_count": 54,
   "metadata": {
    "ExecuteTime": {
     "end_time": "2019-03-30T18:11:34.750966Z",
     "start_time": "2019-03-30T18:11:34.169355Z"
    }
   },
   "outputs": [
    {
     "name": "stdout",
     "output_type": "stream",
     "text": [
      "Confusion Matrix of the 5 Classifiers\n"
     ]
    },
    {
     "data": {
      "image/png": "[encoded data removed]",
      "text/plain": [
       "<Figure size 1080x216 with 10 Axes>"
      ]
     },
     "metadata": {
      "needs_background": "light"
     },
     "output_type": "display_data"
    }
   ],
   "source": [
    "import seaborn as sns\n",
    "plt.figure(figsize=(15, 3))\n",
    "print('Confusion Matrix of the 5 Classifiers')\n",
    "nb_cls = len(clf_map)\n",
    "plt.subplot(1, nb_cls, 1) # starts from 1\n",
    "for i, cname in enumerate(conf_map):\n",
    "    plt.subplot(1, nb_cls, i+1)\n",
    "    plt.title(cname);\n",
    "    sns.heatmap(conf_map[cname], annot=True,  fmt='')"
   ]
  },
  {
   "cell_type": "code",
   "execution_count": null,
   "metadata": {},
   "outputs": [],
   "source": []
  }
 ],
 "metadata": {
  "anaconda-cloud": {},
  "hide_input": false,
  "kernelspec": {
   "display_name": "Python 3 (ipykernel)",
   "language": "python",
   "name": "python3"
  },
  "language_info": {
   "codemirror_mode": {
    "name": "ipython",
    "version": 3
   },
   "file_extension": ".py",
   "mimetype": "text/x-python",
   "name": "python",
   "nbconvert_exporter": "python",
   "pygments_lexer": "ipython3",
   "version": "3.9.12"
  },
  "toc": {
   "base_numbering": 1,
   "nav_menu": {},
   "number_sections": true,
   "sideBar": true,
   "skip_h1_title": false,
   "title_cell": "Table of Contents",
   "title_sidebar": "Contents",
   "toc_cell": false,
   "toc_position": {},
   "toc_section_display": true,
   "toc_window_display": false
  }
 },
 "nbformat": 4,
 "nbformat_minor": 1
}
