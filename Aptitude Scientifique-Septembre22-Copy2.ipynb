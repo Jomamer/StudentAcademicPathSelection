{
 "cells": [
  {
   "cell_type": "markdown",
   "metadata": {},
   "source": [
    "\n",
    "# Prédiction de l'aptitude scientifique ou littéraire"
   ]
  },
  {
   "cell_type": "code",
   "execution_count": 1,
   "metadata": {
    "ExecuteTime": {
     "end_time": "2019-03-30T18:01:40.641196Z",
     "start_time": "2019-03-30T18:01:40.632989Z"
    }
   },
   "outputs": [],
   "source": [
    "import os\n",
    "import pandas as pd\n",
    "import numpy as np\n",
    "from sklearn import datasets\n",
    "from sklearn import tree\n",
    "# Ensemble Learning\n",
    "from sklearn.ensemble import RandomForestClassifier\n",
    "from sklearn.ensemble import ExtraTreesClassifier\n",
    "from sklearn.ensemble import GradientBoostingClassifier\n",
    "from xgboost import XGBClassifier\n",
    "#from sklearn import cross_validation\n",
    "from sklearn.model_selection import KFold, cross_val_score\n",
    "import sklearn.model_selection as ms\n",
    "from sklearn import metrics\n",
    "\n",
    "from matplotlib import pyplot as plt\n",
    "%matplotlib inline"
   ]
  },
  {
   "cell_type": "markdown",
   "metadata": {},
   "source": [
    "## Load Data  for Classification"
   ]
  },
  {
   "cell_type": "code",
   "execution_count": 2,
   "metadata": {
    "ExecuteTime": {
     "end_time": "2019-03-30T17:56:53.319994Z",
     "start_time": "2019-03-30T17:56:53.294780Z"
    }
   },
   "outputs": [],
   "source": [
    "data = pd.read_csv('MoyennesBinSeptembre22.csv',encoding='latin-1')\n",
    "data.head()\n",
    "names = ['Mm6','Mp6','Ms6','Mm5','Mp5','Ms5','Mm4','Mp4','Ms4','Mm3','Mp3','Ms3','S']"
   ]
  },
  {
   "cell_type": "code",
   "execution_count": 3,
   "metadata": {},
   "outputs": [
    {
     "data": {
      "text/plain": [
       "(-0.5, 2.5)"
      ]
     },
     "execution_count": 3,
     "metadata": {},
     "output_type": "execute_result"
    },
    {
     "data": {
      "image/png": "[encoded data removed]",
      "text/plain": [
       "<Figure size 432x288 with 1 Axes>"
      ]
     },
     "metadata": {
      "needs_background": "light"
     },
     "output_type": "display_data"
    }
   ],
   "source": [
    "data['S'].value_counts()\n",
    "#class distribution\n",
    "data.hist(column = 'S')\n",
    "plt.xlim(-0.5,2.5)"
   ]
  },
  {
   "cell_type": "code",
   "execution_count": 4,
   "metadata": {},
   "outputs": [],
   "source": [
    "# créer la matrice de données\n",
    "X = data.iloc[:,0:12].values\n",
    "\n",
    "# créer le vecteur d'étiquettes\n",
    "y = data.iloc[:,13].values "
   ]
  },
  {
   "cell_type": "markdown",
   "metadata": {},
   "source": [
    "## CrossValidation Strategy - Model selection"
   ]
  },
  {
   "cell_type": "code",
   "execution_count": 5,
   "metadata": {
    "ExecuteTime": {
     "end_time": "2019-03-30T17:58:45.308490Z",
     "start_time": "2019-03-30T17:58:45.281669Z"
    }
   },
   "outputs": [
    {
     "name": "stdout",
     "output_type": "stream",
     "text": [
      "train_size: 292 some-train-indexes: [0 1 2 3 4 5 6 7 8 9]\n",
      "train_size: 33 some-test-indexes: [ 29  39  44  46  50  58  64  79 104 105]\n",
      "\n",
      "train_size: 292 some-train-indexes: [0 1 2 3 4 5 6 7 8 9]\n",
      "train_size: 33 some-test-indexes: [16 21 26 28 40 53 62 90 92 93]\n",
      "\n",
      "train_size: 292 some-train-indexes: [ 0  1  2  3  4  5  6  7  9 11]\n",
      "train_size: 33 some-test-indexes: [ 8 10 14 18 47 51 56 68 77 89]\n",
      "\n",
      "train_size: 292 some-train-indexes: [ 0  1  2  4  5  6  8  9 10 11]\n",
      "train_size: 33 some-test-indexes: [ 3  7 19 33 36 49 57 70 84 87]\n",
      "\n",
      "train_size: 292 some-train-indexes: [0 1 2 3 4 5 6 7 8 9]\n",
      "train_size: 33 some-test-indexes: [12 37 38 45 54 55 59 60 61 65]\n",
      "\n",
      "train_size: 293 some-train-indexes: [ 0  1  2  3  4  6  7  8  9 10]\n",
      "train_size: 32 some-test-indexes: [  5  24  32  34  42  67  72  99 106 112]\n",
      "\n",
      "train_size: 293 some-train-indexes: [ 2  3  4  5  6  7  8  9 10 12]\n",
      "train_size: 32 some-test-indexes: [ 0  1 11 30 31 35 66 69 76 80]\n",
      "\n",
      "train_size: 293 some-train-indexes: [ 0  1  3  4  5  6  7  8  9 10]\n",
      "train_size: 32 some-test-indexes: [  2  13  20  41  43  48  63  74  97 119]\n",
      "\n",
      "train_size: 293 some-train-indexes: [ 0  1  2  3  5  7  8 10 11 12]\n",
      "train_size: 32 some-test-indexes: [ 4  6  9 15 22 25 52 78 81 83]\n",
      "\n",
      "train_size: 293 some-train-indexes: [0 1 2 3 4 5 6 7 8 9]\n",
      "train_size: 32 some-test-indexes: [17 23 27 71 73 75 82 94 95 98]\n",
      "\n"
     ]
    }
   ],
   "source": [
    "CV_generator = KFold(n_splits=10, shuffle=True).split(X,y)\n",
    "#nb folds of cross validation\n",
    "for (train_idx, test_idx) in CV_generator:\n",
    "    print(\"train_size:\",len(train_idx),\"some-train-indexes:\", train_idx[:10]) \n",
    "    print(\"train_size:\",len(test_idx), \"some-test-indexes:\", test_idx[:10]) \n",
    "    input()"
   ]
  },
  {
   "cell_type": "code",
   "execution_count": 6,
   "metadata": {},
   "outputs": [],
   "source": [
    "kfold=10"
   ]
  },
  {
   "cell_type": "markdown",
   "metadata": {},
   "source": [
    "##### 1- Decision Tree"
   ]
  },
  {
   "cell_type": "code",
   "execution_count": 7,
   "metadata": {},
   "outputs": [
    {
     "name": "stdout",
     "output_type": "stream",
     "text": [
      "Meilleur(s) hyperparamètre(s) sur le jeu d'entraînement:\n",
      "{'max_depth': 10}\n",
      "Résultats de la validation croisée :\n",
      "accuracy = 0.885 (+/-0.117) for {'max_depth': 4}\n",
      "accuracy = 0.881 (+/-0.110) for {'max_depth': 5}\n",
      "accuracy = 0.896 (+/-0.099) for {'max_depth': 6}\n",
      "accuracy = 0.892 (+/-0.118) for {'max_depth': 7}\n",
      "accuracy = 0.888 (+/-0.113) for {'max_depth': 8}\n",
      "accuracy = 0.881 (+/-0.123) for {'max_depth': 9}\n",
      "accuracy = 0.900 (+/-0.104) for {'max_depth': 10}\n"
     ]
    }
   ],
   "source": [
    "from sklearn import neighbors, metrics, model_selection\n",
    "#Nous découpons nos données en un jeu d'entrainement et un jeu de test\n",
    "\n",
    "from sklearn import model_selection\n",
    "X_train, X_test, y_train, y_test = \\\n",
    "    model_selection.train_test_split(X, y, test_size=0.2)\n",
    "# Fixer les valeurs des hyperparamètres à tester\n",
    "param_grid = {'max_depth':[4, 5, 6, 7, 8, 9, 10]}\n",
    "\n",
    "# Choisir un score à optimiser, ici l'accuracy (proportion de prédictions correctes)\n",
    "score = 'accuracy'\n",
    "\n",
    "# Créer un classifieur kNN avec recherche d'hyperparamètre par validation croisée\n",
    "dtc = model_selection.GridSearchCV(\n",
    "    tree.DecisionTreeClassifier(), # un classifieur kNN\n",
    "    param_grid,     # hyperparamètres à tester\n",
    "    cv=5,           # nombre de folds de validation croisée\n",
    "    scoring=score   # score à optimiser\n",
    ")\n",
    "\n",
    "# Optimiser ce classifieur sur le jeu d'entraînement\n",
    "dtc.fit(X_train, y_train)\n",
    "\n",
    "# Afficher le(s) hyperparamètre(s) optimaux\n",
    "print(\"Meilleur(s) hyperparamètre(s) sur le jeu d'entraînement:\")\n",
    "print(dtc.best_params_)\n",
    "\n",
    "# Afficher les performances correspondantes\n",
    "print(\"Résultats de la validation croisée :\")\n",
    "for mean, std, params in zip(\n",
    "        dtc.cv_results_['mean_test_score'], # score moyen\n",
    "        dtc.cv_results_['std_test_score'],  # écart-type du score\n",
    "        dtc.cv_results_['params']           # valeur de l'hyperparamètre\n",
    "    ):\n",
    "\n",
    "    print(\"{} = {:.3f} (+/-{:.03f}) for {}\".format(\n",
    "        score,\n",
    "        mean,\n",
    "        std*2,\n",
    "        params\n",
    "    ) )"
   ]
  },
  {
   "cell_type": "code",
   "execution_count": 8,
   "metadata": {},
   "outputs": [
    {
     "name": "stdout",
     "output_type": "stream",
     "text": [
      " dtc Accuracy: 0.90 (+/- 0.06)\n"
     ]
    }
   ],
   "source": [
    "dtc = tree.DecisionTreeClassifier(max_depth=5)\n",
    "scores = cross_val_score(dtc, X, y, cv=kfold)\n",
    "print(\" dtc Accuracy: %0.2f (+/- %0.2f)\" % (scores.mean(), scores.std() * 2))"
   ]
  },
  {
   "cell_type": "markdown",
   "metadata": {},
   "source": [
    "##### 2- Random Forest "
   ]
  },
  {
   "cell_type": "code",
   "execution_count": 9,
   "metadata": {},
   "outputs": [
    {
     "name": "stdout",
     "output_type": "stream",
     "text": [
      "Meilleur(s) hyperparamètre(s) sur le jeu d'entraînement:\n",
      "{'n_estimators': 50}\n",
      "Résultats de la validation croisée :\n",
      "accuracy = 0.935 (+/-0.062) for {'n_estimators': 50}\n",
      "accuracy = 0.931 (+/-0.079) for {'n_estimators': 100}\n",
      "accuracy = 0.931 (+/-0.062) for {'n_estimators': 150}\n",
      "accuracy = 0.931 (+/-0.079) for {'n_estimators': 200}\n",
      "accuracy = 0.919 (+/-0.095) for {'n_estimators': 250}\n",
      "accuracy = 0.923 (+/-0.081) for {'n_estimators': 300}\n",
      "accuracy = 0.931 (+/-0.083) for {'n_estimators': 350}\n"
     ]
    }
   ],
   "source": [
    "from sklearn import neighbors, metrics, model_selection\n",
    "#Nous découpons nos données en un jeu d'entrainement et un jeu de test\n",
    "\n",
    "from sklearn import model_selection\n",
    "X_train, X_test, y_train, y_test = \\\n",
    "    model_selection.train_test_split(X, y, test_size=0.2)\n",
    "# Fixer les valeurs des hyperparamètres à tester\n",
    "param_grid = {'n_estimators':[50, 100, 150, 200, 250, 300, 350]}\n",
    "\n",
    "# Choisir un score à optimiser, ici l'accuracy (proportion de prédictions correctes)\n",
    "score = 'accuracy'\n",
    "\n",
    "# Créer un classifieur kNN avec recherche d'hyperparamètre par validation croisée\n",
    "rfc = model_selection.GridSearchCV(\n",
    "    RandomForestClassifier(), # un classifieur kNN\n",
    "    param_grid,     # hyperparamètres à tester\n",
    "    cv=5,           # nombre de folds de validation croisée\n",
    "    scoring=score   # score à optimiser\n",
    ")\n",
    "\n",
    "# Optimiser ce classifieur sur le jeu d'entraînement\n",
    "rfc.fit(X_train, y_train)\n",
    "\n",
    "# Afficher le(s) hyperparamètre(s) optimaux\n",
    "print(\"Meilleur(s) hyperparamètre(s) sur le jeu d'entraînement:\")\n",
    "print(rfc.best_params_)\n",
    "\n",
    "# Afficher les performances correspondantes\n",
    "print(\"Résultats de la validation croisée :\")\n",
    "for mean, std, params in zip(\n",
    "        rfc.cv_results_['mean_test_score'], # score moyen\n",
    "        rfc.cv_results_['std_test_score'],  # écart-type du score\n",
    "        rfc.cv_results_['params']           # valeur de l'hyperparamètre\n",
    "    ):\n",
    "\n",
    "    print(\"{} = {:.3f} (+/-{:.03f}) for {}\".format(\n",
    "        score,\n",
    "        mean,\n",
    "        std*2,\n",
    "        params\n",
    "    ) )"
   ]
  },
  {
   "cell_type": "code",
   "execution_count": 11,
   "metadata": {
    "ExecuteTime": {
     "end_time": "2019-03-30T17:59:54.619826Z",
     "start_time": "2019-03-30T17:59:53.452948Z"
    }
   },
   "outputs": [
    {
     "name": "stdout",
     "output_type": "stream",
     "text": [
      " rfc Accuracy: 0.94 (+/- 0.08)\n"
     ]
    }
   ],
   "source": [
    "rfc = RandomForestClassifier(n_estimators=100) # n_estimators=?, max_features=?\n",
    "scores = cross_val_score(rfc, X, y, cv=kfold)\n",
    "print(\" rfc Accuracy: %0.2f (+/- %0.2f)\" % (scores.mean(), scores.std() * 2))"
   ]
  },
  {
   "cell_type": "markdown",
   "metadata": {},
   "source": [
    "##### 3- Linear SVC"
   ]
  },
  {
   "cell_type": "code",
   "execution_count": 12,
   "metadata": {
    "ExecuteTime": {
     "end_time": "2019-03-30T18:00:38.055614Z",
     "start_time": "2019-03-30T18:00:37.030704Z"
    }
   },
   "outputs": [
    {
     "name": "stdout",
     "output_type": "stream",
     "text": [
      "lsvc accuracy: 0.92 (+/- 0.07)\n"
     ]
    }
   ],
   "source": [
    "from sklearn import svm\n",
    "lsvc = svm.SVC(kernel='linear')\n",
    "scores = cross_val_score(lsvc, X, y, cv=kfold)\n",
    "print(\"lsvc accuracy: %0.2f (+/- %0.2f)\" % (scores.mean(), scores.std() * 2))"
   ]
  },
  {
   "cell_type": "markdown",
   "metadata": {},
   "source": [
    "##### 4- KNN"
   ]
  },
  {
   "cell_type": "code",
   "execution_count": 13,
   "metadata": {},
   "outputs": [
    {
     "name": "stdout",
     "output_type": "stream",
     "text": [
      "Meilleur(s) hyperparamètre(s) sur le jeu d'entraînement:\n",
      "{'n_neighbors': 13}\n",
      "Résultats de la validation croisée :\n",
      "accuracy = 0.897 (+/-0.083) for {'n_neighbors': 3}\n",
      "accuracy = 0.884 (+/-0.070) for {'n_neighbors': 5}\n",
      "accuracy = 0.887 (+/-0.063) for {'n_neighbors': 7}\n",
      "accuracy = 0.901 (+/-0.054) for {'n_neighbors': 9}\n",
      "accuracy = 0.894 (+/-0.058) for {'n_neighbors': 11}\n",
      "accuracy = 0.918 (+/-0.039) for {'n_neighbors': 13}\n",
      "accuracy = 0.901 (+/-0.046) for {'n_neighbors': 15}\n"
     ]
    }
   ],
   "source": [
    "from sklearn import neighbors, metrics, model_selection\n",
    "#Nous découpons nos données en un jeu d'entrainement et un jeu de test\n",
    "\n",
    "from sklearn import model_selection\n",
    "X_train, X_test, y_train, y_test = \\\n",
    "    model_selection.train_test_split(X, y, test_size=0.1)\n",
    "# Fixer les valeurs des hyperparamètres à tester\n",
    "param_grid = {'n_neighbors':[3, 5, 7, 9, 11, 13, 15]}\n",
    "\n",
    "# Choisir un score à optimiser, ici l'accuracy (proportion de prédictions correctes)\n",
    "score = 'accuracy'\n",
    "\n",
    "# Créer un classifieur kNN avec recherche d'hyperparamètre par validation croisée\n",
    "clf = model_selection.GridSearchCV(\n",
    "    neighbors.KNeighborsClassifier(), # un classifieur kNN\n",
    "    param_grid,     # hyperparamètres à tester\n",
    "    cv=5,           # nombre de folds de validation croisée\n",
    "    scoring=score   # score à optimiser\n",
    ")\n",
    "\n",
    "# Optimiser ce classifieur sur le jeu d'entraînement\n",
    "clf.fit(X_train, y_train)\n",
    "\n",
    "# Afficher le(s) hyperparamètre(s) optimaux\n",
    "print(\"Meilleur(s) hyperparamètre(s) sur le jeu d'entraînement:\")\n",
    "print(clf.best_params_)\n",
    "\n",
    "# Afficher les performances correspondantes\n",
    "print(\"Résultats de la validation croisée :\")\n",
    "for mean, std, params in zip(\n",
    "        clf.cv_results_['mean_test_score'], # score moyen\n",
    "        clf.cv_results_['std_test_score'],  # écart-type du score\n",
    "        clf.cv_results_['params']           # valeur de l'hyperparamètre\n",
    "    ):\n",
    "\n",
    "    print(\"{} = {:.3f} (+/-{:.03f}) for {}\".format(\n",
    "        score,\n",
    "        mean,\n",
    "        std*2,\n",
    "        params\n",
    "    ) )"
   ]
  },
  {
   "cell_type": "code",
   "execution_count": 14,
   "metadata": {
    "ExecuteTime": {
     "end_time": "2019-03-30T18:00:52.994268Z",
     "start_time": "2019-03-30T18:00:52.236316Z"
    }
   },
   "outputs": [
    {
     "name": "stdout",
     "output_type": "stream",
     "text": [
      "knn accuracy: 0.91 (+/- 0.11)\n"
     ]
    }
   ],
   "source": [
    "knn = neighbors.KNeighborsClassifier(n_neighbors=9)\n",
    "scores = cross_val_score(knn, X, y, cv=kfold)\n",
    "print(\"knn accuracy: %0.2f (+/- %0.2f)\" % (scores.mean(), scores.std() * 2))"
   ]
  },
  {
   "cell_type": "markdown",
   "metadata": {},
   "source": [
    "##### 5- Logistic Regression"
   ]
  },
  {
   "cell_type": "code",
   "execution_count": 15,
   "metadata": {},
   "outputs": [],
   "source": [
    "import numpy as np\n",
    "from sklearn.linear_model import LogisticRegression\n",
    "from sklearn.metrics import roc_curve, auc\n",
    "\n",
    "lr = LogisticRegression(solver = 'liblinear')"
   ]
  },
  {
   "cell_type": "code",
   "execution_count": 16,
   "metadata": {
    "ExecuteTime": {
     "end_time": "2019-03-30T18:02:26.192662Z",
     "start_time": "2019-03-30T18:02:25.434911Z"
    }
   },
   "outputs": [
    {
     "name": "stdout",
     "output_type": "stream",
     "text": [
      "Accuracy: 0.87 (+/- 0.13)\n"
     ]
    }
   ],
   "source": [
    "scores = cross_val_score(lr, X, y, cv=kfold)\n",
    "print(\"Accuracy: %0.2f (+/- %0.2f)\" % (scores.mean(), scores.std() * 2))"
   ]
  },
  {
   "cell_type": "markdown",
   "metadata": {
    "collapsed": true
   },
   "source": [
    "## TrainTest Strategy - Model evaluation"
   ]
  },
  {
   "cell_type": "markdown",
   "metadata": {},
   "source": [
    "### Split TrainTest"
   ]
  },
  {
   "cell_type": "code",
   "execution_count": 65,
   "metadata": {
    "ExecuteTime": {
     "end_time": "2019-03-30T18:02:34.719248Z",
     "start_time": "2019-03-30T18:02:34.509691Z"
    }
   },
   "outputs": [
    {
     "name": "stdout",
     "output_type": "stream",
     "text": [
      "size train/test: 254/71\n"
     ]
    }
   ],
   "source": [
    "import sklearn.utils\n",
    "data = sklearn.utils.shuffle(data)\n",
    "data['is_train'] = np.random.uniform(0, 1, len(data)) <= 3/4 #.75\n",
    "train, test = data[data['is_train']==True], data[data['is_train']==False]\n",
    "print(\"size train/test: {0}/{1}\".format(train.shape[0], test.shape[0]))\n",
    "X_train, y_train = train[names[:-1]], train['S']\n",
    "X_test, y_test = test[names[:-1]], test['S']"
   ]
  },
  {
   "cell_type": "markdown",
   "metadata": {},
   "source": [
    "### Performance evaluation"
   ]
  },
  {
   "cell_type": "code",
   "execution_count": 66,
   "metadata": {
    "ExecuteTime": {
     "end_time": "2019-03-30T18:02:52.417751Z",
     "start_time": "2019-03-30T18:02:52.414601Z"
    }
   },
   "outputs": [],
   "source": [
    "from sklearn import metrics"
   ]
  },
  {
   "cell_type": "code",
   "execution_count": 67,
   "metadata": {
    "ExecuteTime": {
     "end_time": "2019-03-30T18:03:37.298152Z",
     "start_time": "2019-03-30T18:03:36.941505Z"
    }
   },
   "outputs": [],
   "source": [
    "clf_map = {'DecisionTree': dtc,'RandomForest': rfc, 'LinearSVC': lsvc, 'KNN': knn, 'LogisticRegression':lr }\n",
    "clf_preds_map = {}\n",
    "for cname, clf in clf_map.items():\n",
    "    clf.fit(X_train, y_train)\n",
    "    clf_preds_map[cname] = clf.predict(X_test)"
   ]
  },
  {
   "cell_type": "markdown",
   "metadata": {},
   "source": [
    "##### Accuracy"
   ]
  },
  {
   "cell_type": "code",
   "execution_count": 68,
   "metadata": {
    "ExecuteTime": {
     "end_time": "2019-03-30T18:03:39.986166Z",
     "start_time": "2019-03-30T18:03:39.977522Z"
    }
   },
   "outputs": [
    {
     "name": "stdout",
     "output_type": "stream",
     "text": [
      "=> DecisionTree accuracy = [0.97]]\n",
      "=> RandomForest accuracy = [0.99]]\n",
      "=> LinearSVC accuracy = [0.97]]\n",
      "=> KNN accuracy = [0.92]]\n",
      "=> LogisticRegression accuracy = [0.90]]\n"
     ]
    }
   ],
   "source": [
    "for cname, _ in clf_map.items():\n",
    "    print(\"=> {0} accuracy = [{1:.2f}]]\".format(cname, metrics.accuracy_score(y_test,clf_preds_map[cname])))"
   ]
  },
  {
   "cell_type": "markdown",
   "metadata": {},
   "source": [
    "##### Recall"
   ]
  },
  {
   "cell_type": "code",
   "execution_count": 69,
   "metadata": {},
   "outputs": [
    {
     "name": "stdout",
     "output_type": "stream",
     "text": [
      "=> DecisionTree recall = [0.96]]\n",
      "=> RandomForest recall = [0.98]]\n",
      "=> LinearSVC recall = [0.98]]\n",
      "=> KNN recall = [0.87]]\n",
      "=> LogisticRegression recall = [0.96]]\n"
     ]
    }
   ],
   "source": [
    "for cname, _ in clf_map.items():\n",
    "    print(\"=> {0} recall = [{1:.2f}]]\".format(cname, metrics.recall_score(y_test,clf_preds_map[cname])))"
   ]
  },
  {
   "cell_type": "markdown",
   "metadata": {},
   "source": [
    "##### f1_score"
   ]
  },
  {
   "cell_type": "code",
   "execution_count": 70,
   "metadata": {},
   "outputs": [
    {
     "name": "stdout",
     "output_type": "stream",
     "text": [
      "=> DecisionTree f1_score = [0.98]]\n",
      "=> RandomForest f1_score = [0.99]]\n",
      "=> LinearSVC f1_score = [0.98]]\n",
      "=> KNN f1_score = [0.93]]\n",
      "=> LogisticRegression f1_score = [0.92]]\n"
     ]
    }
   ],
   "source": [
    "for cname, _ in clf_map.items():\n",
    "    print(\"=> {0} f1_score = [{1:.2f}]]\".format(cname, metrics.f1_score(y_test,clf_preds_map[cname])))"
   ]
  },
  {
   "cell_type": "markdown",
   "metadata": {},
   "source": [
    "##### Confusion matrix"
   ]
  },
  {
   "cell_type": "code",
   "execution_count": 71,
   "metadata": {
    "ExecuteTime": {
     "end_time": "2019-03-30T18:03:50.591479Z",
     "start_time": "2019-03-30T18:03:50.574459Z"
    }
   },
   "outputs": [],
   "source": [
    "conf_map = {}\n",
    "for cname, _ in clf_map.items():\n",
    "    conf_map[cname]=metrics.confusion_matrix(y_test, clf_preds_map[cname])"
   ]
  },
  {
   "cell_type": "code",
   "execution_count": 72,
   "metadata": {
    "ExecuteTime": {
     "end_time": "2019-03-30T18:11:34.750966Z",
     "start_time": "2019-03-30T18:11:34.169355Z"
    }
   },
   "outputs": [
    {
     "name": "stdout",
     "output_type": "stream",
     "text": [
      "Confusion Matrix of the 5 Classifiers\n"
     ]
    },
    {
     "data": {
      "image/png": "[encoded data removed]",
      "text/plain": [
       "<Figure size 1080x216 with 10 Axes>"
      ]
     },
     "metadata": {
      "needs_background": "light"
     },
     "output_type": "display_data"
    }
   ],
   "source": [
    "import seaborn as sns\n",
    "plt.figure(figsize=(15, 3))\n",
    "print('Confusion Matrix of the 5 Classifiers')\n",
    "nb_cls = len(clf_map)\n",
    "plt.subplot(1, nb_cls, 1) # starts from 1\n",
    "for i, cname in enumerate(conf_map):\n",
    "    plt.subplot(1, nb_cls, i+1)\n",
    "    plt.title(cname);\n",
    "    sns.heatmap(conf_map[cname], annot=True,  fmt='')"
   ]
  },
  {
   "cell_type": "code",
   "execution_count": null,
   "metadata": {},
   "outputs": [],
   "source": []
  }
 ],
 "metadata": {
  "anaconda-cloud": {},
  "hide_input": false,
  "kernelspec": {
   "display_name": "Python 3 (ipykernel)",
   "language": "python",
   "name": "python3"
  },
  "language_info": {
   "codemirror_mode": {
    "name": "ipython",
    "version": 3
   },
   "file_extension": ".py",
   "mimetype": "text/x-python",
   "name": "python",
   "nbconvert_exporter": "python",
   "pygments_lexer": "ipython3",
   "version": "3.9.12"
  },
  "toc": {
   "base_numbering": 1,
   "nav_menu": {},
   "number_sections": true,
   "sideBar": true,
   "skip_h1_title": false,
   "title_cell": "Table of Contents",
   "title_sidebar": "Contents",
   "toc_cell": false,
   "toc_position": {},
   "toc_section_display": true,
   "toc_window_display": false
  }
 },
 "nbformat": 4,
 "nbformat_minor": 1
}
